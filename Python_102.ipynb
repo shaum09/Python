{
  "nbformat": 4,
  "nbformat_minor": 0,
  "metadata": {
    "colab": {
      "name": "Python_102.ipynb",
      "provenance": [],
      "toc_visible": true,
      "authorship_tag": "ABX9TyMZfmAWrgyp347sqThA92b6",
      "include_colab_link": true
    },
    "kernelspec": {
      "name": "python3",
      "display_name": "Python 3"
    }
  },
  "cells": [
    {
      "cell_type": "markdown",
      "metadata": {
        "id": "view-in-github",
        "colab_type": "text"
      },
      "source": [
        "<a href=\"https://colab.research.google.com/github/shaum09/Python/blob/dev/Python_102.ipynb\" target=\"_parent\"><img src=\"https://colab.research.google.com/assets/colab-badge.svg\" alt=\"Open In Colab\"/></a>"
      ]
    },
    {
      "cell_type": "markdown",
      "metadata": {
        "id": "VaskkQAHUQNM",
        "colab_type": "text"
      },
      "source": [
        "#Dictionaries"
      ]
    },
    {
      "cell_type": "code",
      "metadata": {
        "id": "UojpLMKlTw65",
        "colab_type": "code",
        "colab": {}
      },
      "source": [
        "#Practice Lab"
      ],
      "execution_count": null,
      "outputs": []
    },
    {
      "cell_type": "code",
      "metadata": {
        "id": "W4dg3pwPUauh",
        "colab_type": "code",
        "colab": {
          "base_uri": "https://localhost:8080/",
          "height": 34
        },
        "outputId": "ba3a5baa-c883-4602-e556-6b6e3a140670"
      },
      "source": [
        "D={'a':0,'b':1,'c':2}\n",
        "D.values()"
      ],
      "execution_count": 1,
      "outputs": [
        {
          "output_type": "execute_result",
          "data": {
            "text/plain": [
              "dict_values([0, 1, 2])"
            ]
          },
          "metadata": {
            "tags": []
          },
          "execution_count": 1
        }
      ]
    },
    {
      "cell_type": "code",
      "metadata": {
        "id": "PHDtdaV5Umeg",
        "colab_type": "code",
        "colab": {
          "base_uri": "https://localhost:8080/",
          "height": 34
        },
        "outputId": "7bba13d6-f095-4360-ce88-959a519bd0d7"
      },
      "source": [
        "D={'a':0,'b':1,'c':2}\n",
        "D['b']"
      ],
      "execution_count": 2,
      "outputs": [
        {
          "output_type": "execute_result",
          "data": {
            "text/plain": [
              "1"
            ]
          },
          "metadata": {
            "tags": []
          },
          "execution_count": 2
        }
      ]
    },
    {
      "cell_type": "code",
      "metadata": {
        "id": "IDlott-mVIMQ",
        "colab_type": "code",
        "colab": {
          "base_uri": "https://localhost:8080/",
          "height": 34
        },
        "outputId": "45abd1d4-f86f-4519-ef52-268b36c95ee7"
      },
      "source": [
        "#obtain the first element of the tuple\n",
        "A=('a','b','c')\n",
        "A[0]"
      ],
      "execution_count": 6,
      "outputs": [
        {
          "output_type": "execute_result",
          "data": {
            "text/plain": [
              "('a', 'b', 'c')"
            ]
          },
          "metadata": {
            "tags": []
          },
          "execution_count": 6
        }
      ]
    },
    {
      "cell_type": "code",
      "metadata": {
        "id": "OPdnFfwtVfDo",
        "colab_type": "code",
        "colab": {
          "base_uri": "https://localhost:8080/",
          "height": 34
        },
        "outputId": "62368a24-8613-407a-d128-655c24a3796e"
      },
      "source": [
        "Dict={\"A\":1,\"B\":\"2\",\"C\":[3,3,3],\"D\":(4,4,4),'E':5,'F':6}\n",
        "Dict[\"D\"]"
      ],
      "execution_count": 8,
      "outputs": [
        {
          "output_type": "execute_result",
          "data": {
            "text/plain": [
              "(4, 4, 4)"
            ]
          },
          "metadata": {
            "tags": []
          },
          "execution_count": 8
        }
      ]
    },
    {
      "cell_type": "markdown",
      "metadata": {
        "id": "GnjgxqKOWM9D",
        "colab_type": "text"
      },
      "source": [
        "#Conditions and Branching"
      ]
    },
    {
      "cell_type": "code",
      "metadata": {
        "colab_type": "code",
        "id": "bFzbPuKFWbJt",
        "colab": {}
      },
      "source": [
        "#Practice Lab"
      ],
      "execution_count": null,
      "outputs": []
    },
    {
      "cell_type": "code",
      "metadata": {
        "id": "hnjZqC_QWc8g",
        "colab_type": "code",
        "colab": {
          "base_uri": "https://localhost:8080/",
          "height": 34
        },
        "outputId": "c0380c3b-e98e-408c-f635-95cfabe37b79"
      },
      "source": [
        "i=1\n",
        "i!=0"
      ],
      "execution_count": 14,
      "outputs": [
        {
          "output_type": "execute_result",
          "data": {
            "text/plain": [
              "True"
            ]
          },
          "metadata": {
            "tags": []
          },
          "execution_count": 14
        }
      ]
    },
    {
      "cell_type": "code",
      "metadata": {
        "id": "95dfAx0eW24f",
        "colab_type": "code",
        "colab": {
          "base_uri": "https://localhost:8080/",
          "height": 34
        },
        "outputId": "d705c2d4-cea4-4a0f-af77-96495dfa1aa6"
      },
      "source": [
        "x='a'\n",
        "if(x!='a'):\n",
        "  print(\"this is not a\")\n",
        "else:\n",
        "  print(\"this is a\")"
      ],
      "execution_count": 16,
      "outputs": [
        {
          "output_type": "stream",
          "text": [
            "this is a\n"
          ],
          "name": "stdout"
        }
      ]
    },
    {
      "cell_type": "markdown",
      "metadata": {
        "id": "Bl6Tgao0XfSW",
        "colab_type": "text"
      },
      "source": [
        "#Loops"
      ]
    },
    {
      "cell_type": "code",
      "metadata": {
        "id": "CEmX4t9vXh--",
        "colab_type": "code",
        "colab": {
          "base_uri": "https://localhost:8080/",
          "height": 68
        },
        "outputId": "bdf2182c-6425-4fb4-b515-0acbc88cb31e"
      },
      "source": [
        "A=[3,4,5]\n",
        "for a in A:\n",
        "  print(a)"
      ],
      "execution_count": 17,
      "outputs": [
        {
          "output_type": "stream",
          "text": [
            "3\n",
            "4\n",
            "5\n"
          ],
          "name": "stdout"
        }
      ]
    },
    {
      "cell_type": "code",
      "metadata": {
        "id": "TrZlGnDOXplO",
        "colab_type": "code",
        "colab": {
          "base_uri": "https://localhost:8080/",
          "height": 51
        },
        "outputId": "072022c7-3355-45f4-bd67-3f841682ded6"
      },
      "source": [
        "x=3\n",
        "y=1\n",
        "while(y!= x):\n",
        "  print(y)\n",
        "  y=y+1"
      ],
      "execution_count": 18,
      "outputs": [
        {
          "output_type": "stream",
          "text": [
            "1\n",
            "2\n"
          ],
          "name": "stdout"
        }
      ]
    },
    {
      "cell_type": "markdown",
      "metadata": {
        "id": "LXvHCtrrX3t_",
        "colab_type": "text"
      },
      "source": [
        "#Functions"
      ]
    },
    {
      "cell_type": "code",
      "metadata": {
        "id": "9OlXM3Z6X5UO",
        "colab_type": "code",
        "colab": {
          "base_uri": "https://localhost:8080/",
          "height": 34
        },
        "outputId": "b18958b7-1f79-4d72-ff5a-909e94fda5f7"
      },
      "source": [
        "a=1\n",
        "def add(b):\n",
        "  return a+b\n",
        "c=add(10)\n",
        "print(c)"
      ],
      "execution_count": 21,
      "outputs": [
        {
          "output_type": "stream",
          "text": [
            "11\n"
          ],
          "name": "stdout"
        }
      ]
    },
    {
      "cell_type": "markdown",
      "metadata": {
        "id": "Z5xaPcd9YkpF",
        "colab_type": "text"
      },
      "source": [
        "#Object and Classes"
      ]
    },
    {
      "cell_type": "code",
      "metadata": {
        "id": "5IlrbNGIYob2",
        "colab_type": "code",
        "colab": {}
      },
      "source": [
        "make=\"Honda\"\n",
        "model=\"Accord\"\n",
        "color=\"blue\""
      ],
      "execution_count": 27,
      "outputs": []
    },
    {
      "cell_type": "code",
      "metadata": {
        "id": "qrBXhzVmZEgd",
        "colab_type": "code",
        "colab": {
          "base_uri": "https://localhost:8080/",
          "height": 51
        },
        "outputId": "649aa33d-16b6-49b4-bea6-b4b72129c0d5"
      },
      "source": [
        "x=1\n",
        "\n",
        "if(x!=1):\n",
        "  print('Hello')\n",
        "else:\n",
        "  print('Hi')\n",
        "print('Mike')"
      ],
      "execution_count": 32,
      "outputs": [
        {
          "output_type": "stream",
          "text": [
            "Hi\n",
            "Mike\n"
          ],
          "name": "stdout"
        }
      ]
    },
    {
      "cell_type": "code",
      "metadata": {
        "id": "xIipsDn2bvV8",
        "colab_type": "code",
        "colab": {
          "base_uri": "https://localhost:8080/",
          "height": 68
        },
        "outputId": "e6547a39-e84a-4ee7-810c-b4463d8ab80b"
      },
      "source": [
        "A=['1','2','3']\n",
        "\n",
        "for a in A:\n",
        "  print(2*a)"
      ],
      "execution_count": 33,
      "outputs": [
        {
          "output_type": "stream",
          "text": [
            "11\n",
            "22\n",
            "33\n"
          ],
          "name": "stdout"
        }
      ]
    },
    {
      "cell_type": "code",
      "metadata": {
        "id": "AioBdYjgb1sK",
        "colab_type": "code",
        "colab": {}
      },
      "source": [
        "def Delta(x):\n",
        "  if x==0:\n",
        "   y=1;\n",
        "  else:\n",
        "    y=0;\n",
        "  return(y)"
      ],
      "execution_count": 35,
      "outputs": []
    },
    {
      "cell_type": "code",
      "metadata": {
        "id": "ivpoZwb6cfKb",
        "colab_type": "code",
        "colab": {
          "base_uri": "https://localhost:8080/",
          "height": 34
        },
        "outputId": "19726d7d-a938-4242-bf86-6e1220bb067d"
      },
      "source": [
        "Delta(1)"
      ],
      "execution_count": 37,
      "outputs": [
        {
          "output_type": "execute_result",
          "data": {
            "text/plain": [
              "0"
            ]
          },
          "metadata": {
            "tags": []
          },
          "execution_count": 37
        }
      ]
    },
    {
      "cell_type": "code",
      "metadata": {
        "id": "x1_SLgnGdbnJ",
        "colab_type": "code",
        "colab": {}
      },
      "source": [
        "def Delta(x):\n",
        "  if x==0:\n",
        "    y=1;\n",
        "  else:\n",
        "    y=0;\n",
        "  return(y)"
      ],
      "execution_count": 44,
      "outputs": []
    },
    {
      "cell_type": "code",
      "metadata": {
        "id": "DijLg7DhdoRC",
        "colab_type": "code",
        "colab": {
          "base_uri": "https://localhost:8080/",
          "height": 34
        },
        "outputId": "1d749695-78a3-4425-a0cf-28b8092f731e"
      },
      "source": [
        "Delta(0)"
      ],
      "execution_count": 46,
      "outputs": [
        {
          "output_type": "execute_result",
          "data": {
            "text/plain": [
              "1"
            ]
          },
          "metadata": {
            "tags": []
          },
          "execution_count": 46
        }
      ]
    }
  ]
}