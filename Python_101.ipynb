{
  "nbformat": 4,
  "nbformat_minor": 0,
  "metadata": {
    "colab": {
      "name": "Python_101.ipynb",
      "provenance": [],
      "authorship_tag": "ABX9TyPw4NmVbZQQF1cwJneSnmSU",
      "include_colab_link": true
    },
    "kernelspec": {
      "name": "python3",
      "display_name": "Python 3"
    }
  },
  "cells": [
    {
      "cell_type": "markdown",
      "metadata": {
        "id": "view-in-github",
        "colab_type": "text"
      },
      "source": [
        "<a href=\"https://colab.research.google.com/github/shaum09/Python/blob/dev/Python_101.ipynb\" target=\"_parent\"><img src=\"https://colab.research.google.com/assets/colab-badge.svg\" alt=\"Open In Colab\"/></a>"
      ]
    },
    {
      "cell_type": "markdown",
      "metadata": {
        "id": "dVqU63xGJSjK",
        "colab_type": "text"
      },
      "source": [
        "#Hello World\n",
        "\n",
        "Let's say Hello to the world with a PRINT statement."
      ]
    },
    {
      "cell_type": "code",
      "metadata": {
        "id": "j5eLfa1IGzT-",
        "colab_type": "code",
        "colab": {
          "base_uri": "https://localhost:8080/",
          "height": 51
        },
        "outputId": "4d4dee93-6aeb-4189-f94d-10064bca4aa5"
      },
      "source": [
        "print(\"Hello World\")\n",
        "print(\"Hello GitHub\")"
      ],
      "execution_count": 1,
      "outputs": [
        {
          "output_type": "stream",
          "text": [
            "Hello World\n",
            "Hello GitHub\n"
          ],
          "name": "stdout"
        }
      ]
    },
    {
      "cell_type": "markdown",
      "metadata": {
        "id": "t6VmXpfWJ135",
        "colab_type": "text"
      },
      "source": [
        "Aternative to write lines in two separate lines"
      ]
    },
    {
      "cell_type": "code",
      "metadata": {
        "id": "jX5V_f03JxBT",
        "colab_type": "code",
        "colab": {
          "base_uri": "https://localhost:8080/",
          "height": 51
        },
        "outputId": "bd37abd5-6e1f-4022-8698-a22320948228"
      },
      "source": [
        "print(\"Hello World\\nHello GitHub\")"
      ],
      "execution_count": 2,
      "outputs": [
        {
          "output_type": "stream",
          "text": [
            "Hello World\n",
            "Hello GitHub\n"
          ],
          "name": "stdout"
        }
      ]
    },
    {
      "cell_type": "markdown",
      "metadata": {
        "id": "ibjwfQxUKIKh",
        "colab_type": "text"
      },
      "source": [
        "Comments are key to good coding"
      ]
    },
    {
      "cell_type": "code",
      "metadata": {
        "id": "EPb9WGiFKFqi",
        "colab_type": "code",
        "colab": {}
      },
      "source": [
        "# this is a comment"
      ],
      "execution_count": 3,
      "outputs": []
    },
    {
      "cell_type": "markdown",
      "metadata": {
        "id": "No8MOKazMB_J",
        "colab_type": "text"
      },
      "source": [
        "##Strings in Python"
      ]
    },
    {
      "cell_type": "markdown",
      "metadata": {
        "id": "1TuQgY2nKynR",
        "colab_type": "text"
      },
      "source": [
        "Escape sequence in python"
      ]
    },
    {
      "cell_type": "code",
      "metadata": {
        "id": "b8WyCkHcK36u",
        "colab_type": "code",
        "colab": {
          "base_uri": "https://localhost:8080/",
          "height": 34
        },
        "outputId": "49d40e67-d453-4887-98fe-859b25f716cc"
      },
      "source": [
        "print(\"Hello World\\tHello GitHub\")"
      ],
      "execution_count": 4,
      "outputs": [
        {
          "output_type": "stream",
          "text": [
            "Hello World\tHello GitHub\n"
          ],
          "name": "stdout"
        }
      ]
    },
    {
      "cell_type": "markdown",
      "metadata": {
        "id": "yl9hM45VLrhG",
        "colab_type": "text"
      },
      "source": [
        "If you want to place a backslash in your string"
      ]
    },
    {
      "cell_type": "code",
      "metadata": {
        "id": "ZlrMIzXRLUXf",
        "colab_type": "code",
        "colab": {
          "base_uri": "https://localhost:8080/",
          "height": 34
        },
        "outputId": "d38898c9-ae61-44da-b215-8d52e39a4719"
      },
      "source": [
        "print(\"Hello World\\\\Hello GitHub\")"
      ],
      "execution_count": 11,
      "outputs": [
        {
          "output_type": "stream",
          "text": [
            "Hello World\\Hello GitHub\n"
          ],
          "name": "stdout"
        }
      ]
    },
    {
      "cell_type": "code",
      "metadata": {
        "id": "b4nRf6VULBlw",
        "colab_type": "code",
        "colab": {
          "base_uri": "https://localhost:8080/",
          "height": 34
        },
        "outputId": "62933504-7905-4176-c71e-9b4e78daede4"
      },
      "source": [
        "print(r\"Hello World\\Hello GitHub\")"
      ],
      "execution_count": 13,
      "outputs": [
        {
          "output_type": "stream",
          "text": [
            "Hello World\\Hello GitHub\n"
          ],
          "name": "stdout"
        }
      ]
    },
    {
      "cell_type": "code",
      "metadata": {
        "id": "LFP0-dDBMUe9",
        "colab_type": "code",
        "colab": {
          "base_uri": "https://localhost:8080/",
          "height": 34
        },
        "outputId": "a5ffd11d-956e-4a56-dffb-fa0a858dfb95"
      },
      "source": [
        "A = (\"Hello World\")\n",
        "B = A.upper()\n",
        "print(B)"
      ],
      "execution_count": 19,
      "outputs": [
        {
          "output_type": "stream",
          "text": [
            "HELLO WORLD\n"
          ],
          "name": "stdout"
        }
      ]
    },
    {
      "cell_type": "code",
      "metadata": {
        "id": "dPmrvaK3NAN_",
        "colab_type": "code",
        "colab": {
          "base_uri": "https://localhost:8080/",
          "height": 34
        },
        "outputId": "2d659019-1935-4cb4-bb6a-b42bbe99229f"
      },
      "source": [
        "A = (\"Hello World\")\n",
        "B = A.replace('World','GitHub')\n",
        "print(B)"
      ],
      "execution_count": 20,
      "outputs": [
        {
          "output_type": "stream",
          "text": [
            "Hello GitHub\n"
          ],
          "name": "stdout"
        }
      ]
    },
    {
      "cell_type": "code",
      "metadata": {
        "colab_type": "code",
        "id": "XObYfWTRNElO",
        "colab": {
          "base_uri": "https://localhost:8080/",
          "height": 34
        },
        "outputId": "ef68766f-d418-4267-ce5e-332727076f41"
      },
      "source": [
        "A.find(' ')"
      ],
      "execution_count": 21,
      "outputs": [
        {
          "output_type": "execute_result",
          "data": {
            "text/plain": [
              "5"
            ]
          },
          "metadata": {
            "tags": []
          },
          "execution_count": 21
        }
      ]
    },
    {
      "cell_type": "markdown",
      "metadata": {
        "id": "Jt2-JmqyOR8Y",
        "colab_type": "text"
      },
      "source": [
        "String Operations"
      ]
    },
    {
      "cell_type": "code",
      "metadata": {
        "colab_type": "code",
        "id": "-xS8Nyq4NDBk",
        "colab": {
          "base_uri": "https://localhost:8080/",
          "height": 35
        },
        "outputId": "dbe3075a-29fc-4bdf-bea7-9c81b724e1ef"
      },
      "source": [
        "Numbers=\"0123456\"\n",
        "Numbers[::2]"
      ],
      "execution_count": 23,
      "outputs": [
        {
          "output_type": "execute_result",
          "data": {
            "application/vnd.google.colaboratory.intrinsic+json": {
              "type": "string"
            },
            "text/plain": [
              "'0246'"
            ]
          },
          "metadata": {
            "tags": []
          },
          "execution_count": 23
        }
      ]
    },
    {
      "cell_type": "code",
      "metadata": {
        "id": "zU2PHws8OaFF",
        "colab_type": "code",
        "colab": {
          "base_uri": "https://localhost:8080/",
          "height": 34
        },
        "outputId": "be145e4d-a7c8-4a82-e3f4-f1b8004c8546"
      },
      "source": [
        "\"0123456\".find('1')"
      ],
      "execution_count": 24,
      "outputs": [
        {
          "output_type": "execute_result",
          "data": {
            "text/plain": [
              "1"
            ]
          },
          "metadata": {
            "tags": []
          },
          "execution_count": 24
        }
      ]
    },
    {
      "cell_type": "code",
      "metadata": {
        "id": "uXcp7JpwOkhV",
        "colab_type": "code",
        "colab": {
          "base_uri": "https://localhost:8080/",
          "height": 34
        },
        "outputId": "ea34ae54-d4e5-4563-c203-93b968e74f07"
      },
      "source": [
        "3 + 2 * 2"
      ],
      "execution_count": 25,
      "outputs": [
        {
          "output_type": "execute_result",
          "data": {
            "text/plain": [
              "7"
            ]
          },
          "metadata": {
            "tags": []
          },
          "execution_count": 25
        }
      ]
    },
    {
      "cell_type": "code",
      "metadata": {
        "id": "2Q8WrIo2Oq0t",
        "colab_type": "code",
        "colab": {
          "base_uri": "https://localhost:8080/",
          "height": 34
        },
        "outputId": "aaf524a7-d33b-41c6-ff9a-5668c706328f"
      },
      "source": [
        "name = 'Lizz'\n",
        "print(name[0:2])"
      ],
      "execution_count": 27,
      "outputs": [
        {
          "output_type": "stream",
          "text": [
            "Li\n"
          ],
          "name": "stdout"
        }
      ]
    },
    {
      "cell_type": "code",
      "metadata": {
        "id": "mNVkwkP8O2_t",
        "colab_type": "code",
        "colab": {
          "base_uri": "https://localhost:8080/",
          "height": 34
        },
        "outputId": "6b4d9d07-87ce-4bbc-de20-7ef07181b232"
      },
      "source": [
        "var = '01234567'\n",
        "print(var[::2])"
      ],
      "execution_count": 28,
      "outputs": [
        {
          "output_type": "stream",
          "text": [
            "0246\n"
          ],
          "name": "stdout"
        }
      ]
    },
    {
      "cell_type": "code",
      "metadata": {
        "id": "jf4Za__rO9w-",
        "colab_type": "code",
        "colab": {
          "base_uri": "https://localhost:8080/",
          "height": 35
        },
        "outputId": "7a4b58de-9e9d-4b3c-f0b6-768a9d2cf127"
      },
      "source": [
        "'1'+'2'"
      ],
      "execution_count": 29,
      "outputs": [
        {
          "output_type": "execute_result",
          "data": {
            "application/vnd.google.colaboratory.intrinsic+json": {
              "type": "string"
            },
            "text/plain": [
              "'12'"
            ]
          },
          "metadata": {
            "tags": []
          },
          "execution_count": 29
        }
      ]
    },
    {
      "cell_type": "code",
      "metadata": {
        "id": "Km3sccp5PBcX",
        "colab_type": "code",
        "colab": {
          "base_uri": "https://localhost:8080/",
          "height": 35
        },
        "outputId": "d7acc5a9-273b-42bb-c639-f7f78152b3b3"
      },
      "source": [
        "myvar = 'hello'\n",
        "myvar.upper()"
      ],
      "execution_count": 31,
      "outputs": [
        {
          "output_type": "execute_result",
          "data": {
            "application/vnd.google.colaboratory.intrinsic+json": {
              "type": "string"
            },
            "text/plain": [
              "'HELLO'"
            ]
          },
          "metadata": {
            "tags": []
          },
          "execution_count": 31
        }
      ]
    },
    {
      "cell_type": "markdown",
      "metadata": {
        "id": "Dw4VLjabPUZ1",
        "colab_type": "text"
      },
      "source": [
        "#List and Tupples"
      ]
    },
    {
      "cell_type": "markdown",
      "metadata": {
        "id": "0hiG-HZWPqLN",
        "colab_type": "text"
      },
      "source": [
        "Tupples\n",
        "\n",
        "Tuples Tuples are an ordered sequence.\n",
        "\n",
        "Tuples are expressed as comma-separated elements within parentheses.\n",
        "\n",
        "Each element of a tuple can be accessed via an index.\n",
        "\n",
        "Tuples are immutable, which means we can't change them.\n"
      ]
    },
    {
      "cell_type": "code",
      "metadata": {
        "id": "4_c81jMzQy3E",
        "colab_type": "code",
        "colab": {}
      },
      "source": [
        "#Practice Lab"
      ],
      "execution_count": null,
      "outputs": []
    },
    {
      "cell_type": "code",
      "metadata": {
        "id": "k0WIJcx2PZvc",
        "colab_type": "code",
        "colab": {
          "base_uri": "https://localhost:8080/",
          "height": 34
        },
        "outputId": "9033fcbf-234a-49b2-ceae-a52f1edcdfa9"
      },
      "source": [
        "#access the last element of the tuple:\n",
        "A=(0,1,2,3)\n",
        "A[-1]"
      ],
      "execution_count": 39,
      "outputs": [
        {
          "output_type": "execute_result",
          "data": {
            "text/plain": [
              "3"
            ]
          },
          "metadata": {
            "tags": []
          },
          "execution_count": 39
        }
      ]
    },
    {
      "cell_type": "code",
      "metadata": {
        "id": "0n8qUmzQRIiM",
        "colab_type": "code",
        "colab": {
          "base_uri": "https://localhost:8080/",
          "height": 34
        },
        "outputId": "8e036799-b8ee-4a87-cf1f-99559f75bb45"
      },
      "source": [
        "B=[\"a\",\"b\",\"c\"]\n",
        "B[1:]"
      ],
      "execution_count": 40,
      "outputs": [
        {
          "output_type": "execute_result",
          "data": {
            "text/plain": [
              "['b', 'c']"
            ]
          },
          "metadata": {
            "tags": []
          },
          "execution_count": 40
        }
      ]
    },
    {
      "cell_type": "markdown",
      "metadata": {
        "id": "vDFgFxX_RZCX",
        "colab_type": "text"
      },
      "source": [
        "#Sets"
      ]
    },
    {
      "cell_type": "markdown",
      "metadata": {
        "id": "ARG0rg6vRpMr",
        "colab_type": "text"
      },
      "source": [
        "Sets are a type of collection. This means that like lists and tuples, you\n",
        "can input different python types. Unlike lists and tuples they are unordered.Sets only have unique elements."
      ]
    },
    {
      "cell_type": "code",
      "metadata": {
        "id": "6lG8gw63RdeD",
        "colab_type": "code",
        "colab": {}
      },
      "source": [
        "#Practice Lab"
      ],
      "execution_count": null,
      "outputs": []
    },
    {
      "cell_type": "code",
      "metadata": {
        "id": "kA4PwK2FSFvC",
        "colab_type": "code",
        "colab": {
          "base_uri": "https://localhost:8080/",
          "height": 34
        },
        "outputId": "2cf07265-fc19-4d12-c1e9-9031c3bd2dce"
      },
      "source": [
        "S={'A','B','C'}\n",
        "U={'A','Z','C'}\n",
        "U.union(S)"
      ],
      "execution_count": 41,
      "outputs": [
        {
          "output_type": "execute_result",
          "data": {
            "text/plain": [
              "{'A', 'B', 'C', 'Z'}"
            ]
          },
          "metadata": {
            "tags": []
          },
          "execution_count": 41
        }
      ]
    },
    {
      "cell_type": "code",
      "metadata": {
        "id": "QDWnnidBSKDj",
        "colab_type": "code",
        "colab": {
          "base_uri": "https://localhost:8080/",
          "height": 34
        },
        "outputId": "27b470a7-0097-43b4-cee4-865c26ce8d2d"
      },
      "source": [
        "S={'A','B','C'}\n",
        "U={'A','Z','C'}\n",
        "S.intersection(U)"
      ],
      "execution_count": 43,
      "outputs": [
        {
          "output_type": "execute_result",
          "data": {
            "text/plain": [
              "{'A', 'C'}"
            ]
          },
          "metadata": {
            "tags": []
          },
          "execution_count": 43
        }
      ]
    },
    {
      "cell_type": "code",
      "metadata": {
        "id": "Qx0hkMhFSc9D",
        "colab_type": "code",
        "colab": {}
      },
      "source": [
        ""
      ],
      "execution_count": null,
      "outputs": []
    }
  ]
}